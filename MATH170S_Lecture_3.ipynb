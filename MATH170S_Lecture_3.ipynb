{
 "cells": [
  {
   "cell_type": "code",
   "execution_count": 1,
   "metadata": {},
   "outputs": [],
   "source": [
    "import numpy as np\n",
    "import matplotlib.pyplot as plt\n",
    "\n",
    "# Define the parameters of the normal distribution\n",
    "mean = 0.0  # Mean of the normal distribution\n",
    "std_dev = 1.0  # Standard deviation of the normal distribution\n",
    "\n",
    "# Generate a random sample from the normal distribution\n",
    "np.random.seed(0)  # for reproducibility\n",
    "sample_size = 1000\n",
    "sample = np.random.normal(mean, std_dev, sample_size)\n",
    "\n",
    "# Define the desired percentile (e.g., 95%)\n",
    "percentile = 95\n",
    "\n",
    "# Sort the sample in ascending order\n",
    "sorted_sample = np.sort(sample)\n",
    "\n",
    "# Calculate the empirical cumulative density function (ECDF)\n",
    "ecdf = np.arange(1, sample_size + 1) / sample_size\n",
    "\n",
    "# Find the position of the desired percentile within the ECDF\n",
    "index = int((percentile / 100) * sample_size)\n",
    "\n",
    "# Approximate the percentile value using order statistics\n",
    "percentile_value = sorted_sample[index]\n",
    "\n",
    "# Plot the ECDF\n",
    "plt.plot(sorted_sample, ecdf, marker='.', linestyle='none', label='ECDF')\n",
    "plt.axvline(x=percentile_value, color='r', linestyle='--', label=f'Apporx. {percentile}th Percentile = {percentile_value:.2f}')\n",
    "\n",
    "plt.xlabel('Value')\n",
    "plt.ylabel('Empirical CDF')\n",
    "plt.title('Approximating Percentile of a Normal Distribution')\n",
    "plt.legend()\n",
    "plt.grid(True)\n",
    "\n",
    "# Save the plot\n",
    "plt.savefig('est_95_perc.png', dpi=300)"
   ]
  },
  {
   "cell_type": "code",
   "execution_count": null,
   "metadata": {},
   "outputs": [],
   "source": []
  }
 ],
 "metadata": {
  "kernelspec": {
   "display_name": "Python 3",
   "language": "python",
   "name": "python3"
  },
  "language_info": {
   "codemirror_mode": {
    "name": "ipython",
    "version": 3
   },
   "file_extension": ".py",
   "mimetype": "text/x-python",
   "name": "python",
   "nbconvert_exporter": "python",
   "pygments_lexer": "ipython3",
   "version": "3.7.3"
  }
 },
 "nbformat": 4,
 "nbformat_minor": 2
}
